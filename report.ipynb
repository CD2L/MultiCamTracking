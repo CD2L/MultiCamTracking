{
 "cells": [
  {
   "cell_type": "code",
   "execution_count": null,
   "metadata": {},
   "outputs": [],
   "source": []
  },
  {
   "attachments": {},
   "cell_type": "markdown",
   "metadata": {},
   "source": [
    "# MultiCamTracking\n",
    "\n",
    "## Resnet50\n",
    "<b>Model:</b> checkpoint_exp37_200.pkl<br>\n",
    "<b>Date:</b> 08/02/2023<br>\n",
    "<b>Epochs:</b> 200<br>\n",
    "<b>Nb layers unfreezed:</b> 4<br>\n",
    "<b>Loss/test:</b> 0.1569<br>\n",
    "<b>Loss/train:</b> 0.0279<br>\n",
    "\n",
    "\n",
    "### Results\n",
    "File | Nb Persons | Accuracy | Mean Distance\n",
    "-|-|-|-\n",
    "rouen-centre-ville-1.jpg | 16 | 0.94 | 1.08\n",
    "street.jpg | 17 | 0.94 | 1.33\n",
    "street2.jpg | 5 | 1.00 | 0.79\n",
    "people-pedestrian-man-woman.jpg | 23 | 0.87 | 1.50\n",
    "\n",
    "### Results on Market-1501\n",
    "Nb Persons | Accuracy | Mean Distance Positive | Mean Distance Negative\n",
    "-|-|-|-\n",
    "387 | 0.73 | 0.22 | 4.42\n",
    "\n",
    "## Resnet50 - 2\n",
    "<b>Model:</b> checkpoint_exp43_300.pkl<br>\n",
    "<b>Date:</b> 09/02/2023<br>\n",
    "<b>Pretrained on:</b> checkpoint_exp37_200.pkl\n",
    "<b>Epochs:</b> 300<br>\n",
    "<b>Nb layers unfreezed:</b> 10 (All)<br>\n",
    "<b>Loss/test:</b> 0.0089<br>\n",
    "<b>Loss/train:</b> 0.053<br>\n",
    "\n",
    "### Metrics\n",
    "#### Test loss graph\n",
    "![Test loss graph](./utils/siamese-model/rn50/rn50_10_300_pt.jpg) \n",
    "#### LR Graph\n",
    "![lr graph](./utils/siamese-model/rn50/rn50_10_300_pt_lr.jpg) \n",
    "\n",
    "### Results on validation data\n",
    "File | Nb Persons | Accuracy | Mean Distance\n",
    "-|-|-|-\n",
    "rouen-centre-ville-1.jpg | 16 | 0.94 | 0.61\n",
    "street.jpg | 17 | 1.0 | 0.70\n",
    "street2.jpg | 5 | 1.00 | 0.26\n",
    "people-pedestrian-man-woman.jpg | 23 | 1.00 | 0.88\n",
    "\n",
    "### Results on Market-1501\n",
    "Nb Persons | Accuracy | Mean Distance Positive | Mean Distance Negative\n",
    "-|-|-|-\n",
    "387 | 0.83 | 0.30 | 9.65\n",
    "\n"
   ]
  },
  {
   "attachments": {},
   "cell_type": "markdown",
   "metadata": {},
   "source": [
    "## Results with ResNet100"
   ]
  },
  {
   "attachments": {},
   "cell_type": "markdown",
   "metadata": {},
   "source": [
    "## Results with Inception"
   ]
  },
  {
   "attachments": {},
   "cell_type": "markdown",
   "metadata": {},
   "source": [
    "## Results with Transformers"
   ]
  }
 ],
 "metadata": {
  "kernelspec": {
   "display_name": "base",
   "language": "python",
   "name": "python3"
  },
  "language_info": {
   "codemirror_mode": {
    "name": "ipython",
    "version": 3
   },
   "file_extension": ".py",
   "mimetype": "text/x-python",
   "name": "python",
   "nbconvert_exporter": "python",
   "pygments_lexer": "ipython3",
   "version": "3.9.12"
  },
  "orig_nbformat": 4,
  "vscode": {
   "interpreter": {
    "hash": "398dc28c06ad810e77de546bbdfa897a6ee0b83e59a5207339dda01a7843e01d"
   }
  }
 },
 "nbformat": 4,
 "nbformat_minor": 2
}
